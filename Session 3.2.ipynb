{
 "cells": [
  {
   "cell_type": "code",
   "execution_count": 1,
   "metadata": {},
   "outputs": [],
   "source": [
    "class BlankClass(object):\n",
    "    '''This is a Blank class for CS162.'''\n",
    "    pass\n",
    "t = BlankClass()\n",
    "\n",
    "class ClassWithAttr(object):\n",
    "    x1 = 1\n",
    "    x2 = 2\n",
    "\n",
    "my_attr = ClassWithAttr()\n",
    "my_attr.x3 = 3"
   ]
  },
  {
   "cell_type": "code",
   "execution_count": 2,
   "metadata": {},
   "outputs": [
    {
     "name": "stdout",
     "output_type": "stream",
     "text": [
      "Help on BlankClass in module __main__ object:\n",
      "\n",
      "class BlankClass(builtins.object)\n",
      " |  This is a Blank class for CS162.\n",
      " |  \n",
      " |  Data descriptors defined here:\n",
      " |  \n",
      " |  __dict__\n",
      " |      dictionary for instance variables (if defined)\n",
      " |  \n",
      " |  __weakref__\n",
      " |      list of weak references to the object (if defined)\n",
      "\n"
     ]
    }
   ],
   "source": [
    "help(t)"
   ]
  },
  {
   "cell_type": "code",
   "execution_count": 3,
   "metadata": {},
   "outputs": [
    {
     "data": {
      "text/plain": [
       "__main__.BlankClass"
      ]
     },
     "execution_count": 3,
     "metadata": {},
     "output_type": "execute_result"
    }
   ],
   "source": [
    "type(t)"
   ]
  },
  {
   "cell_type": "code",
   "execution_count": 4,
   "metadata": {},
   "outputs": [
    {
     "data": {
      "text/plain": [
       "['__class__',\n",
       " '__delattr__',\n",
       " '__dict__',\n",
       " '__dir__',\n",
       " '__doc__',\n",
       " '__eq__',\n",
       " '__format__',\n",
       " '__ge__',\n",
       " '__getattribute__',\n",
       " '__gt__',\n",
       " '__hash__',\n",
       " '__init__',\n",
       " '__init_subclass__',\n",
       " '__le__',\n",
       " '__lt__',\n",
       " '__module__',\n",
       " '__ne__',\n",
       " '__new__',\n",
       " '__reduce__',\n",
       " '__reduce_ex__',\n",
       " '__repr__',\n",
       " '__setattr__',\n",
       " '__sizeof__',\n",
       " '__str__',\n",
       " '__subclasshook__',\n",
       " '__weakref__']"
      ]
     },
     "execution_count": 4,
     "metadata": {},
     "output_type": "execute_result"
    }
   ],
   "source": [
    "dir(t)"
   ]
  },
  {
   "cell_type": "code",
   "execution_count": 5,
   "metadata": {},
   "outputs": [
    {
     "data": {
      "text/plain": [
       "-9223372036570442005"
      ]
     },
     "execution_count": 5,
     "metadata": {},
     "output_type": "execute_result"
    }
   ],
   "source": [
    "hash(t)"
   ]
  },
  {
   "cell_type": "code",
   "execution_count": 6,
   "metadata": {},
   "outputs": [
    {
     "data": {
      "text/plain": [
       "4549340856"
      ]
     },
     "execution_count": 6,
     "metadata": {},
     "output_type": "execute_result"
    }
   ],
   "source": [
    "id(t)"
   ]
  },
  {
   "cell_type": "code",
   "execution_count": 7,
   "metadata": {},
   "outputs": [
    {
     "data": {
      "text/plain": [
       "True"
      ]
     },
     "execution_count": 7,
     "metadata": {},
     "output_type": "execute_result"
    }
   ],
   "source": [
    "hasattr(my_attr,'x3')"
   ]
  },
  {
   "cell_type": "code",
   "execution_count": 8,
   "metadata": {},
   "outputs": [
    {
     "data": {
      "text/plain": [
       "3"
      ]
     },
     "execution_count": 8,
     "metadata": {},
     "output_type": "execute_result"
    }
   ],
   "source": [
    "getattr(my_attr,'x3')"
   ]
  },
  {
   "cell_type": "code",
   "execution_count": 13,
   "metadata": {},
   "outputs": [
    {
     "ename": "AttributeError",
     "evalue": "x3",
     "output_type": "error",
     "traceback": [
      "\u001b[0;31m---------------------------------------------------------------------------\u001b[0m",
      "\u001b[0;31mAttributeError\u001b[0m                            Traceback (most recent call last)",
      "\u001b[0;32m<ipython-input-13-68737dc8ca36>\u001b[0m in \u001b[0;36m<module>\u001b[0;34m\u001b[0m\n\u001b[0;32m----> 1\u001b[0;31m \u001b[0mdelattr\u001b[0m\u001b[0;34m(\u001b[0m\u001b[0mmy_attr\u001b[0m\u001b[0;34m,\u001b[0m\u001b[0;34m'x3'\u001b[0m\u001b[0;34m)\u001b[0m\u001b[0;34m\u001b[0m\u001b[0;34m\u001b[0m\u001b[0m\n\u001b[0m",
      "\u001b[0;31mAttributeError\u001b[0m: x3"
     ]
    }
   ],
   "source": [
    "delattr(my_attr,'x3')"
   ]
  },
  {
   "cell_type": "code",
   "execution_count": 10,
   "metadata": {},
   "outputs": [
    {
     "data": {
      "text/plain": [
       "{}"
      ]
     },
     "execution_count": 10,
     "metadata": {},
     "output_type": "execute_result"
    }
   ],
   "source": [
    "vars(my_attr)"
   ]
  },
  {
   "cell_type": "code",
   "execution_count": 12,
   "metadata": {},
   "outputs": [
    {
     "data": {
      "text/plain": [
       "True"
      ]
     },
     "execution_count": 12,
     "metadata": {},
     "output_type": "execute_result"
    }
   ],
   "source": [
    "bool(t)"
   ]
  },
  {
   "cell_type": "markdown",
   "metadata": {},
   "source": [
    "### Build up a list of all the classes defined in the tkinter library, and all the parent classes that it inherits from\n",
    "\n",
    "class Event\n",
    "class Variable\n",
    "class Pack\n",
    "class XView\n",
    "class YView\n",
    "class Wm\n",
    "class Place\n",
    "class Grid\n",
    "class Image\n",
    "class BaseWidget(Misc) - inherits from class Misc\n",
    "class Widget(BaseWidget, Pack, Place, Grid) - inherits from classes Place, Grid, Pack, BaseWidget\n",
    "class Toplevel(BaseWidget, Wm) - inherits from classes Basewidget and Wm\n",
    "class Button(Widget) - inherits from class Widget\n",
    "class Canvas(Widget, XView, YView) - inherits from classes Widget, XView and YView\n",
    "class Checkbutton(Widget)\n",
    "class Entry(Widget, XView)\n",
    "class Frame(Widget)\n",
    "class Label(Widget)\n",
    "class Menu(Widget)\n",
    "class Menubutton(Widget)\n",
    "class Message(Widget\n",
    "class Radiobutton(Widget)\n",
    "class Scale(Widget)\n",
    "class Scrollbar(Widget)\n",
    "class Text(Widget, XView, YView)\n",
    "class OptionMenu(Menubutton)\n",
    "class PhotoImage(Image)\n",
    "class BitmapImage(Image)\n",
    "class Spinbox(Widget, XView)\n",
    "class LabelFrame(Widget)\n",
    "class PanedWindow(Widget)\n",
    "class Listbox(Widget, XView, YView)\n",
    "class Tk(Misc, Wm) - inherits from class Wm and class Misc\n",
    "class StringVar(Variable) - inherits from class Variable\n",
    "class IntVar(Variable) - inherits from class Variable\n",
    "class DoubleVar(Variable) - inherits from class Variable\n",
    "class BooleanVar(Variable) - inherits from class Variable\n",
    "class Misc - internal class under class BooleanVar\n",
    "class CallWrapper - internal class "
   ]
  },
  {
   "cell_type": "markdown",
   "metadata": {},
   "source": [
    "### Now choose a class that inherits from widget and list all the methods that one can call on that widget\n",
    "\n",
    "class Button(Widget)\n",
    "def destroy\n",
    "def do\n",
    "def pack_configure\n",
    "def pack_forget\n",
    "def pack_info\n",
    "def place_configure\n",
    "def place_forget\n",
    "def place_info\n",
    "def grid_configure\n",
    "def grid_forget\n",
    "def grid_remove\n",
    "def grid_info"
   ]
  },
  {
   "cell_type": "markdown",
   "metadata": {},
   "source": [
    "### Find a simple online tutorial on tkinter and build a simple graphical user interface.  How much of the complexity of the library can be hidden from an enduser?"
   ]
  },
  {
   "cell_type": "code",
   "execution_count": null,
   "metadata": {},
   "outputs": [],
   "source": [
    "from tkinter import * \n",
    "window = Tk()\n",
    "window.title(\"Welcome to LikeGeeks app\") \n",
    "window.mainloop()"
   ]
  },
  {
   "cell_type": "code",
   "execution_count": null,
   "metadata": {},
   "outputs": [],
   "source": []
  }
 ],
 "metadata": {
  "kernelspec": {
   "display_name": "Python 3",
   "language": "python",
   "name": "python3"
  },
  "language_info": {
   "codemirror_mode": {
    "name": "ipython",
    "version": 3
   },
   "file_extension": ".py",
   "mimetype": "text/x-python",
   "name": "python",
   "nbconvert_exporter": "python",
   "pygments_lexer": "ipython3",
   "version": "3.7.1"
  }
 },
 "nbformat": 4,
 "nbformat_minor": 2
}
